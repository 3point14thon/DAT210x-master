{
 "cells": [
  {
   "cell_type": "markdown",
   "metadata": {},
   "source": [
    "# DAT210x - Programming with Python for DS"
   ]
  },
  {
   "cell_type": "markdown",
   "metadata": {},
   "source": [
    "## Module5- Lab5"
   ]
  },
  {
   "cell_type": "code",
   "execution_count": 60,
   "metadata": {
    "collapsed": true
   },
   "outputs": [],
   "source": [
    "import numpy as np\n",
    "import pandas as pd\n",
    "import matplotlib.pyplot as plt\n",
    "import matplotlib\n",
    "from sklearn.model_selection import train_test_split\n",
    "from sklearn import preprocessing\n",
    "from sklearn.decomposition import PCA\n",
    "from sklearn.neighbors import KNeighborsClassifier\n",
    "import numpy as np\n",
    "\n",
    "%matplotlib inline\n",
    "\n",
    "matplotlib.style.use('ggplot') # Look Pretty"
   ]
  },
  {
   "cell_type": "markdown",
   "metadata": {},
   "source": [
    "### A Convenience Function"
   ]
  },
  {
   "cell_type": "code",
   "execution_count": 61,
   "metadata": {
    "collapsed": true
   },
   "outputs": [],
   "source": [
    "def plotDecisionBoundary(model, X, y):\n",
    "    fig = plt.figure()\n",
    "    ax = fig.add_subplot(111)\n",
    "\n",
    "    padding = 0.6\n",
    "    resolution = 0.0025\n",
    "    colors = ['royalblue','forestgreen','ghostwhite']\n",
    "\n",
    "    # Calculate the boundaris\n",
    "    x_min, x_max = X[:, 0].min(), X[:, 0].max()\n",
    "    y_min, y_max = X[:, 1].min(), X[:, 1].max()\n",
    "    x_range = x_max - x_min\n",
    "    y_range = y_max - y_min\n",
    "    x_min -= x_range * padding\n",
    "    y_min -= y_range * padding\n",
    "    x_max += x_range * padding\n",
    "    y_max += y_range * padding\n",
    "\n",
    "    # Create a 2D Grid Matrix. The values stored in the matrix\n",
    "    # are the predictions of the class at at said location\n",
    "    xx, yy = np.meshgrid(np.arange(x_min, x_max, resolution),\n",
    "                       np.arange(y_min, y_max, resolution))\n",
    "\n",
    "    # What class does the classifier say?\n",
    "    Z = model.predict(np.c_[xx.ravel(), yy.ravel()])\n",
    "    Z = Z.reshape(xx.shape)\n",
    "\n",
    "    # Plot the contour map\n",
    "    cs = plt.contourf(xx, yy, Z, cmap=plt.cm.terrain)\n",
    "\n",
    "    # Plot the test original points as well...\n",
    "    for label in range(len(np.unique(y))):\n",
    "        indices = np.where(y == label)\n",
    "        plt.scatter(X[indices, 0], X[indices, 1], c=colors[label], label=str(label), alpha=0.8)\n",
    "\n",
    "    p = model.get_params()\n",
    "    plt.axis('tight')\n",
    "    plt.title('K = ' + str(p['n_neighbors']))"
   ]
  },
  {
   "cell_type": "markdown",
   "metadata": {
    "collapsed": true
   },
   "source": [
    "### The Assignment"
   ]
  },
  {
   "cell_type": "markdown",
   "metadata": {
    "collapsed": true
   },
   "source": [
    "Load up the dataset into a variable called `X`. Check `.head` and `dtypes` to make sure you're loading your data properly--don't fail on the 1st step!"
   ]
  },
  {
   "cell_type": "code",
   "execution_count": 62,
   "metadata": {},
   "outputs": [
    {
     "name": "stdout",
     "output_type": "stream",
     "text": [
      "      id   area  perimeter  compactness  length  width  asymmetry  groove  \\\n",
      "0      0  15.26      14.84       0.8710   5.763  3.312     2.2210   5.220   \n",
      "1      1  14.88      14.57       0.8811   5.554  3.333     1.0180   4.956   \n",
      "2      2  14.29      14.09       0.9050   5.291  3.337     2.6990   4.825   \n",
      "3      3  13.84      13.94       0.8955   5.324  3.379     2.2590   4.805   \n",
      "4      4  16.14      14.99       0.9034   5.658  3.562     1.3550   5.175   \n",
      "5      5  14.38      14.21       0.8951   5.386  3.312     2.4620   4.956   \n",
      "6      6  14.69      14.49       0.8799   5.563  3.259     3.5860   5.219   \n",
      "7      7  14.11      14.10       0.8911   5.420  3.302     2.7000     NaN   \n",
      "8      8  16.63      15.46       0.8747   6.053  3.465     2.0400   5.877   \n",
      "9      9  16.44      15.25       0.8880   5.884  3.505     1.9690   5.533   \n",
      "10    10  15.26      14.85       0.8696   5.714  3.242     4.5430   5.314   \n",
      "11    11  14.03      14.16       0.8796   5.438  3.201     1.7170   5.001   \n",
      "12    12  13.89      14.02       0.8880   5.439  3.199     3.9860   4.738   \n",
      "13    13  13.78      14.06       0.8759   5.479  3.156     3.1360   4.872   \n",
      "14    14  13.74      14.05       0.8744   5.482  3.114     2.9320   4.825   \n",
      "15    15  14.59      14.28       0.8993   5.351  3.333     4.1850   4.781   \n",
      "16    16  13.99      13.83       0.9183   5.119  3.383     5.2340   4.781   \n",
      "17    17  15.69      14.75       0.9058   5.527  3.514     1.5990   5.046   \n",
      "18    18  14.70      14.21       0.9153   5.205  3.466     1.7670   4.649   \n",
      "19    19  12.72      13.57       0.8686   5.226  3.049     4.1020   4.914   \n",
      "20    20  14.16      14.40       0.8584   5.658  3.129     3.0720   5.176   \n",
      "21    21  14.11      14.26       0.8722   5.520  3.168     2.6880   5.219   \n",
      "22    22  15.88      14.90       0.8988   5.618  3.507     0.7651   5.091   \n",
      "23    23  12.08      13.23       0.8664   5.099  2.936     1.4150   4.961   \n",
      "24    24  15.01      14.76       0.8657   5.789  3.245     1.7910   5.001   \n",
      "25    25  16.19      15.16       0.8849   5.833  3.421     0.9030   5.307   \n",
      "26    26  13.02      13.76       0.8641   5.395  3.026     3.3730   4.825   \n",
      "27    27  12.74      13.67       0.8564   5.395  2.956     2.5040   4.869   \n",
      "28    28  14.11      14.18       0.8820   5.541  3.221     2.7540   5.038   \n",
      "29    29  13.45      14.02       0.8604   5.516  3.065     3.5310   5.097   \n",
      "..   ...    ...        ...          ...     ...    ...        ...     ...   \n",
      "180  180  11.41      12.95       0.8560   5.090  2.775     4.9570   4.825   \n",
      "181  181  12.46      13.41       0.8706   5.236  3.017     4.9870   5.147   \n",
      "182  182  12.19      13.36       0.8579   5.240  2.909     4.8570   5.158   \n",
      "183  183  11.65      13.07       0.8575   5.108  2.850     5.2090   5.135   \n",
      "184  184  12.89      13.77       0.8541   5.495  3.026     6.1850   5.316   \n",
      "185  185  11.56      13.31       0.8198   5.363  2.683     4.0620   5.182   \n",
      "186  186  11.81      13.45       0.8198   5.413  2.716     4.8980   5.352   \n",
      "187  187  10.91      12.80       0.8372   5.088  2.675     4.1790   4.956   \n",
      "188  188  11.23      12.82       0.8594   5.089  2.821     7.5240   4.957   \n",
      "189  189  10.59      12.41       0.8648   4.899  2.787     4.9750   4.794   \n",
      "190  190  10.93      12.80       0.8390   5.046  2.717     5.3980   5.045   \n",
      "191  191  11.27      12.86       0.8563   5.091  2.804     3.9850   5.001   \n",
      "192  192  11.87      13.02       0.8795   5.132  2.953     3.5970   5.132   \n",
      "193  193  10.82      12.83       0.8256   5.180  2.630     4.8530   5.089   \n",
      "194  194  12.11      13.27       0.8639   5.236  2.975     4.1320   5.012   \n",
      "195  195  12.80      13.47       0.8860   5.160  3.126     4.8730   4.914   \n",
      "196  196  12.79      13.53       0.8786   5.224  3.054     5.4830   4.958   \n",
      "197  197  13.37      13.78       0.8849   5.320  3.128     4.6700   5.091   \n",
      "198  198  12.62      13.67       0.8481   5.410  2.911     3.3060   5.231   \n",
      "199  199  12.76      13.38       0.8964   5.073  3.155     2.8280   4.830   \n",
      "200  200  12.38      13.44       0.8609   5.219  2.989     5.4720   5.045   \n",
      "201  201  12.67      13.32       0.8977   4.984  3.135     2.3000     NaN   \n",
      "202  202  11.18      12.72       0.8680   5.009  2.810     4.0510   4.828   \n",
      "203  203  12.70      13.41       0.8874   5.183  3.091     8.4560   5.000   \n",
      "204  204  12.37      13.47       0.8567   5.204  2.960     3.9190   5.001   \n",
      "205  205  12.19      13.20       0.8783   5.137  2.981     3.6310   4.870   \n",
      "206  206  11.23      12.88       0.8511   5.140  2.795     4.3250   5.003   \n",
      "207  207  13.20      13.66       0.8883   5.236  3.232     8.3150   5.056   \n",
      "208  208  11.84      13.21       0.8521   5.175  2.836     3.5980   5.044   \n",
      "209  209  12.30      13.34       0.8684   5.243  2.974     5.6370   5.063   \n",
      "\n",
      "    wheat_type  \n",
      "0         kama  \n",
      "1         kama  \n",
      "2         kama  \n",
      "3         kama  \n",
      "4         kama  \n",
      "5         kama  \n",
      "6         kama  \n",
      "7     canadian  \n",
      "8         kama  \n",
      "9         kama  \n",
      "10        kama  \n",
      "11        kama  \n",
      "12        kama  \n",
      "13        kama  \n",
      "14        kama  \n",
      "15        kama  \n",
      "16        kama  \n",
      "17        kama  \n",
      "18        kama  \n",
      "19        kama  \n",
      "20        kama  \n",
      "21        kama  \n",
      "22        kama  \n",
      "23        kama  \n",
      "24        kama  \n",
      "25        kama  \n",
      "26        kama  \n",
      "27        kama  \n",
      "28        kama  \n",
      "29        kama  \n",
      "..         ...  \n",
      "180   canadian  \n",
      "181   canadian  \n",
      "182   canadian  \n",
      "183   canadian  \n",
      "184   canadian  \n",
      "185   canadian  \n",
      "186   canadian  \n",
      "187   canadian  \n",
      "188   canadian  \n",
      "189   canadian  \n",
      "190   canadian  \n",
      "191   canadian  \n",
      "192   canadian  \n",
      "193   canadian  \n",
      "194   canadian  \n",
      "195   canadian  \n",
      "196   canadian  \n",
      "197   canadian  \n",
      "198   canadian  \n",
      "199   canadian  \n",
      "200   canadian  \n",
      "201   canadian  \n",
      "202   canadian  \n",
      "203   canadian  \n",
      "204   canadian  \n",
      "205   canadian  \n",
      "206   canadian  \n",
      "207   canadian  \n",
      "208   canadian  \n",
      "209   canadian  \n",
      "\n",
      "[210 rows x 9 columns]\n"
     ]
    }
   ],
   "source": [
    "x = pd.read_csv('Datasets\\wheat.data')\n",
    "print(x)"
   ]
  },
  {
   "cell_type": "markdown",
   "metadata": {},
   "source": [
    "Copy the `wheat_type` series slice out of `X`, and into a series called `y`. Then drop the original `wheat_type` column from the `X`:"
   ]
  },
  {
   "cell_type": "code",
   "execution_count": 63,
   "metadata": {
    "collapsed": true
   },
   "outputs": [],
   "source": [
    "y = x.wheat_type\n",
    "x = x.iloc[:,:-1]"
   ]
  },
  {
   "cell_type": "markdown",
   "metadata": {},
   "source": [
    "Do a quick, \"ordinal\" conversion of `y`. In actuality our classification isn't ordinal, but just as an experiment..."
   ]
  },
  {
   "cell_type": "code",
   "execution_count": 64,
   "metadata": {
    "collapsed": true
   },
   "outputs": [],
   "source": [
    "y = y.astype('category').cat.codes\n",
    "y = y.values.reshape(-1,1)"
   ]
  },
  {
   "cell_type": "markdown",
   "metadata": {},
   "source": [
    "Do some basic nan munging. Fill each row's nans with the mean of the feature:"
   ]
  },
  {
   "cell_type": "code",
   "execution_count": 65,
   "metadata": {
    "collapsed": true
   },
   "outputs": [],
   "source": [
    "for column in x.columns:\n",
    "    x[column].fillna(x[column].mean(),inplace=True)"
   ]
  },
  {
   "cell_type": "markdown",
   "metadata": {},
   "source": [
    "Split `X` into training and testing data sets using `train_test_split()`. Use `0.33` test size, and use `random_state=1`. This is important so that your answers are verifiable. In the real world, you wouldn't specify a random_state:"
   ]
  },
  {
   "cell_type": "code",
   "execution_count": 66,
   "metadata": {
    "collapsed": true
   },
   "outputs": [],
   "source": [
    "data_train, data_test, label_train, label_test =train_test_split(x,y,test_size=0.33,random_state=1)"
   ]
  },
  {
   "cell_type": "markdown",
   "metadata": {},
   "source": [
    "Create an instance of SKLearn's Normalizer class and then train it using its .fit() method against your _training_ data. The reason you only fit against your training data is because in a real-world situation, you'll only have your training data to train with! In this lab setting, you have both train+test data; but in the wild, you'll only have your training data, and then unlabeled data you want to apply your models to."
   ]
  },
  {
   "cell_type": "code",
   "execution_count": 67,
   "metadata": {},
   "outputs": [],
   "source": [
    "xt = preprocessing.Normalizer().fit(data_train)"
   ]
  },
  {
   "cell_type": "markdown",
   "metadata": {},
   "source": [
    "With your trained pre-processor, transform both your training AND testing data. Any testing data has to be transformed with your preprocessor that has ben fit against your training data, so that it exist in the same feature-space as the original data used to train your models."
   ]
  },
  {
   "cell_type": "code",
   "execution_count": 68,
   "metadata": {},
   "outputs": [],
   "source": [
    "data_train_trans = xt.transform(data_train)\n",
    "data_test_trans = xt.transform(data_test)"
   ]
  },
  {
   "cell_type": "markdown",
   "metadata": {
    "collapsed": true
   },
   "source": [
    "Just like your preprocessing transformation, create a PCA transformation as well. Fit it against your training data, and then project your training and testing features into PCA space using the PCA model's `.transform()` method. This has to be done because the only way to visualize the decision boundary in 2D would be if your KNN algo ran in 2D as well:"
   ]
  },
  {
   "cell_type": "code",
   "execution_count": 69,
   "metadata": {},
   "outputs": [],
   "source": [
    "pca = PCA(2)\n",
    "pca.fit(data_train_trans)\n",
    "dtrainpca = pca.transform(data_train_trans)\n",
    "dtestpca = pca.transform(data_test_trans)"
   ]
  },
  {
   "cell_type": "markdown",
   "metadata": {},
   "source": [
    "Create and train a KNeighborsClassifier. Start with `K=9` neighbors. Be sure train your classifier against the pre-processed, PCA- transformed training data above! You do not, of course, need to transform your labels."
   ]
  },
  {
   "cell_type": "code",
   "execution_count": 70,
   "metadata": {},
   "outputs": [
    {
     "data": {
      "text/plain": [
       "KNeighborsClassifier(algorithm='auto', leaf_size=30, metric='minkowski',\n",
       "           metric_params=None, n_jobs=1, n_neighbors=7, p=2,\n",
       "           weights='uniform')"
      ]
     },
     "execution_count": 70,
     "metadata": {},
     "output_type": "execute_result"
    }
   ],
   "source": [
    "label_train = np.ravel(label_train)\n",
    "model = KNeighborsClassifier(n_neighbors=7)\n",
    "model.fit(dtrainpca,label_train)"
   ]
  },
  {
   "cell_type": "code",
   "execution_count": 71,
   "metadata": {},
   "outputs": [
    {
     "data": {
      "image/png": "[encoded data removed]",
      "text/plain": [
       "<matplotlib.figure.Figure at 0x23f15700828>"
      ]
     },
     "metadata": {},
     "output_type": "display_data"
    }
   ],
   "source": [
    "# I hope your KNeighbors classifier model from earlier was named 'knn'\n",
    "# If not, adjust the following line:\n",
    "plotDecisionBoundary(model, dtrainpca, label_train)"
   ]
  },
  {
   "cell_type": "markdown",
   "metadata": {},
   "source": [
    "Display the accuracy score of your test data/labels, computed by your KNeighbors model. You do NOT have to run `.predict` before calling `.score`, since `.score` will take care of running your predictions for you automatically."
   ]
  },
  {
   "cell_type": "code",
   "execution_count": 72,
   "metadata": {},
   "outputs": [
    {
     "data": {
      "text/plain": [
       "0.88571428571428568"
      ]
     },
     "execution_count": 72,
     "metadata": {},
     "output_type": "execute_result"
    }
   ],
   "source": [
    "model.score(dtestpca, label_test)"
   ]
  },
  {
   "cell_type": "markdown",
   "metadata": {},
   "source": [
    "### Bonus"
   ]
  },
  {
   "cell_type": "markdown",
   "metadata": {},
   "source": [
    "Instead of the ordinal conversion, try and get this assignment working with a proper Pandas get_dummies for feature encoding. You might have to update some of the `plotDecisionBoundary()` code."
   ]
  },
  {
   "cell_type": "code",
   "execution_count": 73,
   "metadata": {
    "collapsed": true
   },
   "outputs": [],
   "source": [
    "plt.show()"
   ]
  },
  {
   "cell_type": "code",
   "execution_count": null,
   "metadata": {
    "collapsed": true
   },
   "outputs": [],
   "source": []
  }
 ],
 "metadata": {
  "anaconda-cloud": {},
  "kernelspec": {
   "display_name": "Python 3",
   "language": "python",
   "name": "python3"
  },
  "language_info": {
   "codemirror_mode": {
    "name": "ipython",
    "version": 3
   },
   "file_extension": ".py",
   "mimetype": "text/x-python",
   "name": "python",
   "nbconvert_exporter": "python",
   "pygments_lexer": "ipython3",
   "version": "3.6.1"
  },
  "toc": {
   "colors": {
    "hover_highlight": "#DAA520",
    "running_highlight": "#FF0000",
    "selected_highlight": "#FFD700"
   },
   "moveMenuLeft": true,
   "nav_menu": {
    "height": "58px",
    "width": "252px"
   },
   "navigate_menu": true,
   "number_sections": true,
   "sideBar": true,
   "threshold": 4,
   "toc_cell": false,
   "toc_section_display": "block",
   "toc_window_display": false,
   "widenNotebook": false
  }
 },
 "nbformat": 4,
 "nbformat_minor": 2
}
