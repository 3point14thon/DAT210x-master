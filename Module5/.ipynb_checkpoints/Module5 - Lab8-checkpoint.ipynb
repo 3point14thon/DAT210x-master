{
 "cells": [
  {
   "cell_type": "markdown",
   "metadata": {},
   "source": [
    "# DAT210x - Programming with Python for DS"
   ]
  },
  {
   "cell_type": "markdown",
   "metadata": {},
   "source": [
    "## Module5- Lab8"
   ]
  },
  {
   "cell_type": "code",
<<<<<<< HEAD
   "execution_count": null,
=======
   "execution_count": 1,
>>>>>>> 8c2c0c86a9bd077266629cbbd8ee7446289d47fe
   "metadata": {
    "collapsed": true
   },
   "outputs": [],
   "source": [
    "import pandas as pd\n",
    "import numpy as np\n",
    "import matplotlib\n",
    "import matplotlib.pyplot as plt\n",
    "\n",
<<<<<<< HEAD
=======
    "from sklearn import linear_model\n",
    "\n",
>>>>>>> 8c2c0c86a9bd077266629cbbd8ee7446289d47fe
    "matplotlib.style.use('ggplot') # Look Pretty"
   ]
  },
  {
   "cell_type": "markdown",
   "metadata": {},
   "source": [
    "### A Convenience Function"
   ]
  },
  {
   "cell_type": "markdown",
   "metadata": {},
   "source": [
    "This convenience method will take care of plotting your test observations, comparing them to the regression line, and displaying the R2 coefficient"
   ]
  },
  {
   "cell_type": "code",
<<<<<<< HEAD
   "execution_count": null,
   "metadata": {},
=======
   "execution_count": 26,
   "metadata": {
    "collapsed": true
   },
>>>>>>> 8c2c0c86a9bd077266629cbbd8ee7446289d47fe
   "outputs": [],
   "source": [
    "def drawLine(model, X_test, y_test, title):\n",
    "    fig = plt.figure()\n",
    "    ax = fig.add_subplot(111)\n",
    "    ax.scatter(X_test, y_test, c='g', marker='o')\n",
    "    ax.plot(X_test, model.predict(X_test), color='orange', linewidth=1, alpha=0.7)\n",
    "\n",
<<<<<<< HEAD
    "    print(\"Est 2014 \" + title + \" Life Expectancy: \", model.predict([[2014]])[0])\n",
=======
    "   \n",
    "    print(\"Est 2014 \" + title + \" Life Expectancy: \" + str(model.predict(2014)[0]))\n",
>>>>>>> 8c2c0c86a9bd077266629cbbd8ee7446289d47fe
    "    print(\"Est 2030 \" + title + \" Life Expectancy: \", model.predict([[2030]])[0])\n",
    "    print(\"Est 2045 \" + title + \" Life Expectancy: \", model.predict([[2045]])[0])\n",
    "\n",
    "    score = model.score(X_test, y_test)\n",
    "    title += \" R2: \" + str(score)\n",
    "    ax.set_title(title)\n",
    "\n",
    "    plt.show()"
   ]
  },
  {
   "cell_type": "markdown",
   "metadata": {
    "collapsed": true
   },
   "source": [
    "### The Assignment"
   ]
  },
  {
   "cell_type": "markdown",
   "metadata": {
    "collapsed": true
   },
   "source": [
    "Load up the data here into a variable called `X`. As usual, do a .describe and a print of your dataset and compare it to the dataset loaded in a text file or in a spread sheet application:"
   ]
  },
  {
   "cell_type": "code",
<<<<<<< HEAD
   "execution_count": null,
   "metadata": {
    "collapsed": true
   },
   "outputs": [],
   "source": [
    "# .. your code here .."
=======
   "execution_count": 3,
   "metadata": {},
   "outputs": [
    {
     "name": "stdout",
     "output_type": "stream",
     "text": [
      "   Year  WhiteMale  WhiteFemale  BlackMale  BlackFemale\n",
      "0  1900       46.6         48.7       32.5         33.5\n",
      "1  1950       66.5         72.2       59.1         62.9\n",
      "2  1960       67.4         74.1       61.1         66.3\n",
      "3  1970       68.0         75.6       60.0         68.3\n"
     ]
    }
   ],
   "source": [
    "x = pd.read_csv('Datasets/life_expectancy.csv',delimiter='\\t')\n",
    "print(x.head(4))"
>>>>>>> 8c2c0c86a9bd077266629cbbd8ee7446289d47fe
   ]
  },
  {
   "cell_type": "markdown",
   "metadata": {},
   "source": [
    "Create your linear regression model here and store it in a variable called `model`. Don't actually train or do anything else with it yet:"
   ]
  },
  {
   "cell_type": "code",
<<<<<<< HEAD
   "execution_count": null,
=======
   "execution_count": 4,
>>>>>>> 8c2c0c86a9bd077266629cbbd8ee7446289d47fe
   "metadata": {
    "collapsed": true
   },
   "outputs": [],
   "source": [
<<<<<<< HEAD
    "# .. your code here .."
=======
    "model = linear_model.LinearRegression()"
>>>>>>> 8c2c0c86a9bd077266629cbbd8ee7446289d47fe
   ]
  },
  {
   "cell_type": "markdown",
   "metadata": {},
   "source": [
    "Slice out your data manually (e.g. don't use `train_test_split`, but actually do the indexing yourself. Set `X_train` to be year values LESS than 1986, and `y_train` to be corresponding 'WhiteMale' age values. You might also want to read the note about slicing on the bottom of this document before proceeding:"
   ]
  },
  {
   "cell_type": "code",
<<<<<<< HEAD
   "execution_count": null,
=======
   "execution_count": 5,
>>>>>>> 8c2c0c86a9bd077266629cbbd8ee7446289d47fe
   "metadata": {
    "collapsed": true
   },
   "outputs": [],
   "source": [
<<<<<<< HEAD
    "# .. your code here .."
=======
    "x_train = x[x.Year < 1986].Year\n",
    "y_train = x[x.Year < 1986].WhiteMale"
>>>>>>> 8c2c0c86a9bd077266629cbbd8ee7446289d47fe
   ]
  },
  {
   "cell_type": "markdown",
   "metadata": {},
   "source": [
    "Train your model then pass it into `drawLine` with your training set and labels. You can title it 'WhiteMale'. `drawLine` will output to the console a 2014 extrapolation / approximation for what it believes the WhiteMale's life expectancy in the U.S. will be... given the pre-1986 data you trained it with. It'll also produce a 2030 and 2045 extrapolation:"
   ]
  },
  {
   "cell_type": "code",
<<<<<<< HEAD
   "execution_count": null,
   "metadata": {
    "collapsed": true
   },
   "outputs": [],
   "source": [
    "# .. your code here .."
=======
   "execution_count": 27,
   "metadata": {},
   "outputs": [
    {
     "name": "stdout",
     "output_type": "stream",
     "text": [
      "Est 2014 whitemale Life Expectancy: [ 80.85635426]\n",
      "Est 2030 whitemale Life Expectancy:  [ 85.39349384]\n",
      "Est 2045 whitemale Life Expectancy:  [ 89.6470622]\n"
     ]
    },
    {
     "data": {
      "image/png": "iVBORw0KGgoAAAANSUhEUgAAAXQAAAEJCAYAAACE39xMAAAABHNCSVQICAgIfAhkiAAAAAlwSFlz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\nDHQiIg/x/2sMTlFz8PN2AAAAAElFTkSuQmCC\n",
      "text/plain": [
       "<matplotlib.figure.Figure at 0xbcbf160>"
      ]
     },
     "metadata": {},
     "output_type": "display_data"
    }
   ],
   "source": [
    "model.fit(np.array(x_train).reshape(-1,1),np.array(y_train).reshape(-1,1))\n",
    "\n",
    "drawLine(model,np.array(x_train).reshape(-1,1),np.array(y_train).reshape(-1,1),'whitemale')"
>>>>>>> 8c2c0c86a9bd077266629cbbd8ee7446289d47fe
   ]
  },
  {
   "cell_type": "markdown",
   "metadata": {},
   "source": [
    "Print the actual 2014 'WhiteMale' life expectancy from your loaded dataset"
   ]
  },
  {
   "cell_type": "code",
<<<<<<< HEAD
   "execution_count": null,
   "metadata": {
    "collapsed": true
   },
   "outputs": [],
   "source": [
    "# .. your code here .."
=======
   "execution_count": 10,
   "metadata": {},
   "outputs": [
    {
     "name": "stdout",
     "output_type": "stream",
     "text": [
      "39    76.7\n",
      "Name: WhiteMale, dtype: float64\n"
     ]
    }
   ],
   "source": [
    "print(x.WhiteMale[x.Year == 2014])"
>>>>>>> 8c2c0c86a9bd077266629cbbd8ee7446289d47fe
   ]
  },
  {
   "cell_type": "markdown",
   "metadata": {},
   "source": [
    "Repeat the process, but instead of for WhiteMale, this time select BlackFemale. Create a slice for BlackFemales, fit your model, and then call `drawLine`. Lastly, print out the actual 2014 BlackFemale life expectancy:"
   ]
  },
  {
   "cell_type": "code",
<<<<<<< HEAD
   "execution_count": null,
   "metadata": {},
   "outputs": [],
   "source": [
    "# .. your code here .. "
=======
   "execution_count": 31,
   "metadata": {},
   "outputs": [
    {
     "name": "stdout",
     "output_type": "stream",
     "text": [
      "Est 2014 BlackFemale Life Expectancy: [ 88.6988994]\n",
      "Est 2030 BlackFemale Life Expectancy:  [ 96.11438808]\n",
      "Est 2045 BlackFemale Life Expectancy:  [ 103.06640871]\n"
     ]
    },
    {
     "data": {
      "image/png": "iVBORw0KGgoAAAANSUhEUgAAAXQAAAEJCAYAAACE39xMAAAABHNCSVQICAgIfAhkiAAAAAlwSFlz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\nwnt7VJAAsmcAAAAASUVORK5CYII=\n",
      "text/plain": [
       "<matplotlib.figure.Figure at 0xbdb9f60>"
      ]
     },
     "metadata": {},
     "output_type": "display_data"
    },
    {
     "name": "stdout",
     "output_type": "stream",
     "text": [
      "39    78.4\n",
      "Name: BlackFemale, dtype: float64\n"
     ]
    }
   ],
   "source": [
    "x_train = x[x.Year < 1986].Year\n",
    "y_train = x[x.Year < 1986].BlackFemale\n",
    "\n",
    "model.fit(np.array(x_train).reshape(-1,1),np.array(y_train).reshape(-1,1))\n",
    "drawLine(model,np.array(x_train).reshape(-1,1),np.array(y_train).reshape(-1,1),'BlackFemale')\n",
    "print(x[x.Year == 2014].BlackFemale)"
>>>>>>> 8c2c0c86a9bd077266629cbbd8ee7446289d47fe
   ]
  },
  {
   "cell_type": "markdown",
   "metadata": {},
   "source": [
    "Lastly, print out a correlation matrix for your entire dataset, and display a visualization of the correlation matrix, just as we described in the visualization section of the course:"
   ]
  },
  {
   "cell_type": "code",
<<<<<<< HEAD
   "execution_count": null,
   "metadata": {
    "collapsed": true
   },
   "outputs": [],
   "source": [
    "# .. your code here .."
=======
   "execution_count": 39,
   "metadata": {},
   "outputs": [
    {
     "data": {
      "text/plain": [
       "([<matplotlib.axis.YTick at 0x7f89d30>,\n",
       "  <matplotlib.axis.YTick at 0x7f89240>,\n",
       "  <matplotlib.axis.YTick at 0x7f9e080>,\n",
       "  <matplotlib.axis.YTick at 0xc003710>,\n",
       "  <matplotlib.axis.YTick at 0xc0092b0>],\n",
       " <a list of 5 Text yticklabel objects>)"
      ]
     },
     "execution_count": 39,
     "metadata": {},
     "output_type": "execute_result"
    }
   ],
   "source": [
    "x.corr()\n",
    "plt.imshow(x.corr(), cmap=plt.cm.Blues,interpolation='nearest')\n",
    "plt.colorbar()\n",
    "tick_marks = [i for i in range(len(x.columns))]\n",
    "plt.xticks(tick_marks, x.columns, rotation='vertical')\n",
    "plt.yticks(tick_marks, x.columns)\n"
>>>>>>> 8c2c0c86a9bd077266629cbbd8ee7446289d47fe
   ]
  },
  {
   "cell_type": "code",
<<<<<<< HEAD
   "execution_count": null,
   "metadata": {
    "collapsed": true
   },
   "outputs": [],
=======
   "execution_count": 40,
   "metadata": {},
   "outputs": [
    {
     "data": {
      "image/png": "iVBORw0KGgoAAAANSUhEUgAAAWkAAAE0CAYAAADua8JnAAAABHNCSVQICAgIfAhkiAAAAAlwSFlz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\n",
      "text/plain": [
       "<matplotlib.figure.Figure at 0xbd4ea58>"
      ]
     },
     "metadata": {},
     "output_type": "display_data"
    }
   ],
>>>>>>> 8c2c0c86a9bd077266629cbbd8ee7446289d47fe
   "source": [
    "plt.show()"
   ]
  },
  {
   "cell_type": "markdown",
   "metadata": {},
   "source": [
    "### Notes On Fitting, Scoring, and Predicting:"
   ]
  },
  {
   "cell_type": "markdown",
   "metadata": {
    "collapsed": true
   },
   "source": [
    "Here's a hint to help you complete the assignment without pulling your hair out! When you use `.fit()`, `.score()`, and `.predict()` on your model, SciKit-Learn expects your training data to be in spreadsheet (2D Array-Like) form. This means you can't simply pass in a 1D Array (slice) and get away with it.\n",
    "\n",
    "To properly prep your data, you have to pass in a 2D Numpy Array, or a dataframe. But what happens if you really only want to pass in a single feature?\n",
    "\n",
    "If you slice your dataframe using `df[['ColumnName']]` syntax, the result that comes back is actually a _dataframe_. Go ahead and do a `type()` on it to check it out. Since it's already a dataframe, you're good -- no further changes needed.\n",
    "\n",
    "But if you slice your dataframe using the `df.ColumnName` syntax, OR if you call `df['ColumnName']`, the result that comes back is actually a series (1D Array)! This will cause SKLearn to bug out. So if you are slicing using either of those two techniques, before sending your training or testing data to `.fit` / `.score`, do `any_column = my_column.reshape(-1,1)`. \n",
    "\n",
    "This will convert your 1D array of `[n_samples]`, to a 2D array shaped like `[n_samples, 1]`. A single feature, with many samples.\n",
    "\n",
    "If you did something like `my_column = [my_column]`, that would produce an array in the shape of `[1, n_samples]`, which is incorrect because SKLearn expects your data to be arranged as `[n_samples, n_features]`. Keep in mind, all of the above only relates to your `X` or input data, and does not apply to your `y` or labels."
   ]
  }
 ],
 "metadata": {
  "anaconda-cloud": {},
  "kernelspec": {
   "display_name": "Python 3",
   "language": "python",
   "name": "python3"
  },
  "language_info": {
   "codemirror_mode": {
    "name": "ipython",
    "version": 3
   },
   "file_extension": ".py",
   "mimetype": "text/x-python",
   "name": "python",
   "nbconvert_exporter": "python",
   "pygments_lexer": "ipython3",
   "version": "3.6.1"
  },
  "toc": {
   "colors": {
    "hover_highlight": "#DAA520",
    "running_highlight": "#FF0000",
    "selected_highlight": "#FFD700"
   },
   "moveMenuLeft": true,
   "nav_menu": {
    "height": "58px",
    "width": "252px"
   },
   "navigate_menu": true,
   "number_sections": true,
   "sideBar": true,
   "threshold": 4,
   "toc_cell": false,
   "toc_section_display": "block",
   "toc_window_display": false,
   "widenNotebook": false
  }
 },
 "nbformat": 4,
 "nbformat_minor": 2
}
