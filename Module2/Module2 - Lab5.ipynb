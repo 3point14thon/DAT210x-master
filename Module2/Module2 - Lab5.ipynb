{
 "cells": [
  {
   "cell_type": "markdown",
   "metadata": {},
   "source": [
    "# DAT210x - Programming with Python for DS"
   ]
  },
  {
   "cell_type": "markdown",
   "metadata": {},
   "source": [
    "## Module2 - Lab5"
   ]
  },
  {
   "cell_type": "markdown",
   "metadata": {
    "collapsed": true
   },
   "source": [
    "Import and alias Pandas:"
   ]
  },
  {
   "cell_type": "code",
<<<<<<< HEAD
   "execution_count": 89,
=======
   "execution_count": null,
>>>>>>> 8c2c0c86a9bd077266629cbbd8ee7446289d47fe
   "metadata": {
    "collapsed": true
   },
   "outputs": [],
   "source": [
<<<<<<< HEAD
    "import pandas as pd"
=======
    "# .. your code here .."
>>>>>>> 8c2c0c86a9bd077266629cbbd8ee7446289d47fe
   ]
  },
  {
   "cell_type": "markdown",
   "metadata": {},
   "source": [
    "As per usual, load up the specified dataset, setting appropriate header labels."
   ]
  },
  {
   "cell_type": "code",
<<<<<<< HEAD
   "execution_count": 96,
=======
   "execution_count": null,
>>>>>>> 8c2c0c86a9bd077266629cbbd8ee7446289d47fe
   "metadata": {
    "collapsed": true
   },
   "outputs": [],
   "source": [
<<<<<<< HEAD
    "census = pd.read_csv('Datasets/census.data', names = ['degree', 'age', 'capital-gain', 'ethnicity', 'capital-loss', 'hours-per-week', 'sex', 'classification'])"
=======
    "# .. your code here .."
>>>>>>> 8c2c0c86a9bd077266629cbbd8ee7446289d47fe
   ]
  },
  {
   "cell_type": "markdown",
   "metadata": {},
   "source": [
    "Excellent.\n",
    "\n",
    "Now, use basic pandas commands to look through the dataset. Get a feel for it before proceeding!\n",
    "\n",
    "Do the data-types of each column reflect the values you see when you look through the data using a text editor / spread sheet program? If you see `object` where you expect to see `int32` or `float64`, that is a good indicator that there might be a string or missing value or erroneous value in the column."
   ]
  },
  {
   "cell_type": "code",
<<<<<<< HEAD
   "execution_count": 97,
   "metadata": {},
   "outputs": [
    {
     "name": "stdout",
     "output_type": "stream",
     "text": [
      "             degree  age  capital-gain           ethnicity  capital-loss  \\\n",
      "0         Bachelors   39        2174.0               White             0   \n",
      "1         Bachelors   50           NaN               White             0   \n",
      "2           HS-grad   38           NaN               White             0   \n",
      "3              11th   53           NaN               Black             0   \n",
      "4         Bachelors   28           0.0               Black             0   \n",
      "5           Masters   37           0.0               White             0   \n",
      "6               9th   49           0.0               Black             0   \n",
      "7           HS-grad   52           0.0               White             0   \n",
      "8           Masters   31       14084.0               White             0   \n",
      "9         Bachelors   42        5178.0               White             0   \n",
      "10     Some-college   37           0.0               Black             0   \n",
      "11        Bachelors   30           0.0  Asian-Pac-Islander             0   \n",
      "12        Bachelors   23           0.0               White             0   \n",
      "13          7th-8th   34           0.0  Amer-Indian-Eskimo             0   \n",
      "14          HS-grad   25           0.0               White             0   \n",
      "15          HS-grad   32           0.0               White             0   \n",
      "16             11th   38           0.0               White             0   \n",
      "17          Masters   43           0.0               White             0   \n",
      "18        Doctorate   40           0.0               White             0   \n",
      "19          HS-grad   54           0.0               Black             0   \n",
      "20              9th   35           0.0               Black             0   \n",
      "21             11th   43           0.0               White          2042   \n",
      "22          HS-grad   59           0.0               White             0   \n",
      "23        Bachelors   56           0.0               White             0   \n",
      "24          HS-grad   19           0.0               White             0   \n",
      "25     Some-college   54           0.0  Asian-Pac-Islander             0   \n",
      "26          HS-grad   39           0.0               White             0   \n",
      "27          HS-grad   49           0.0               White             0   \n",
      "28     Some-college   20           0.0               Black             0   \n",
      "29        Bachelors   45           0.0               White          1408   \n",
      "...             ...  ...           ...                 ...           ...   \n",
      "29506       HS-grad   30           0.0               White             0   \n",
      "29507          10th   32           0.0               White             0   \n",
      "29508  Some-college   22           0.0               White             0   \n",
      "29509       HS-grad   31           0.0               White             0   \n",
      "29510       HS-grad   29           0.0               White             0   \n",
      "29511     Bachelors   35           0.0               White             0   \n",
      "29512     Bachelors   30           0.0  Asian-Pac-Islander             0   \n",
      "29513     Doctorate   34           0.0               White             0   \n",
      "29514     Bachelors   54           0.0  Asian-Pac-Islander             0   \n",
      "29515  Some-college   37           0.0               White             0   \n",
      "29516          12th   22           0.0               Black             0   \n",
      "29517     Bachelors   34           0.0               White             0   \n",
      "29518       HS-grad   30           0.0               Black             0   \n",
      "29519     Bachelors   38       15020.0               Black             0   \n",
      "29520     Doctorate   71           0.0               White             0   \n",
      "29521       HS-grad   45           0.0               White             0   \n",
      "29522       HS-grad   41           0.0               Black             0   \n",
      "29523       HS-grad   72           0.0               White             0   \n",
      "29524       Masters   31           0.0               Other             0   \n",
      "29525       HS-grad   43           0.0               White             0   \n",
      "29526  Some-college   43           0.0               White             0   \n",
      "29527  Some-college   43           0.0               White             0   \n",
      "29528          10th   32           0.0  Amer-Indian-Eskimo             0   \n",
      "29529       Masters   32           0.0  Asian-Pac-Islander             0   \n",
      "29530       Masters   53           0.0               White             0   \n",
      "29531  Some-college   22           0.0               White             0   \n",
      "29532       HS-grad   40           0.0               White             0   \n",
      "29533       HS-grad   58           0.0               White             0   \n",
      "29534       HS-grad   22           0.0               White             0   \n",
      "29535       HS-grad   52       15024.0               White             0   \n",
      "\n",
      "       hours-per-week     sex classification  \n",
      "0                  40    Male          <=50K  \n",
      "1                  13    Male          <=50K  \n",
      "2                  40    Male          <=50K  \n",
      "3                  40    Male          <=50K  \n",
      "4                  40  Female          <=50K  \n",
      "5                  40  Female          <=50K  \n",
      "6                  16  Female          <=50K  \n",
      "7                  45    Male           >50K  \n",
      "8                  50  Female           >50K  \n",
      "9                  40    Male           >50K  \n",
      "10                 80    Male           >50K  \n",
      "11                 40    Male           >50K  \n",
      "12                 30  Female          <=50K  \n",
      "13                 45    Male          <=50K  \n",
      "14                 35    Male          <=50K  \n",
      "15                 40    Male          <=50K  \n",
      "16                 50    Male          <=50K  \n",
      "17                 45  Female           >50K  \n",
      "18                 60    Male           >50K  \n",
      "19                 20  Female          <=50K  \n",
      "20                 40    Male          <=50K  \n",
      "21                 40    Male          <=50K  \n",
      "22                 40  Female          <=50K  \n",
      "23                 40    Male           >50K  \n",
      "24                 40    Male          <=50K  \n",
      "25                 60    Male           >50K  \n",
      "26                 80    Male          <=50K  \n",
      "27                 40    Male          <=50K  \n",
      "28                 44    Male          <=50K  \n",
      "29                 40    Male          <=50K  \n",
      "...               ...     ...            ...  \n",
      "29506              55    Male          <=50K  \n",
      "29507              40    Male          <=50K  \n",
      "29508              40    Male          <=50K  \n",
      "29509              40  Female          <=50K  \n",
      "29510              35  Female          <=50K  \n",
      "29511              55  Female           >50K  \n",
      "29512              99  Female          <=50K  \n",
      "29513              60    Male           >50K  \n",
      "29514              50    Male           >50K  \n",
      "29515              39  Female          <=50K  \n",
      "29516              35    Male          <=50K  \n",
      "29517              55  Female           >50K  \n",
      "29518              46    Male          <=50K  \n",
      "29519              45  Female           >50K  \n",
      "29520              10    Male           >50K  \n",
      "29521              40  Female          <=50K  \n",
      "29522              32  Female          <=50K  \n",
      "29523              25    Male          <=50K  \n",
      "29524              30  Female          <=50K  \n",
      "29525              40    Male          <=50K  \n",
      "29526              40  Female          <=50K  \n",
      "29527              50    Male          <=50K  \n",
      "29528              40    Male          <=50K  \n",
      "29529              11    Male          <=50K  \n",
      "29530              40    Male           >50K  \n",
      "29531              40    Male          <=50K  \n",
      "29532              40    Male           >50K  \n",
      "29533              40  Female          <=50K  \n",
      "29534              20    Male          <=50K  \n",
      "29535              40  Female           >50K  \n",
      "\n",
      "[29536 rows x 8 columns]\n"
     ]
    },
    {
     "data": {
      "text/plain": [
       "degree             object\n",
       "age                 int64\n",
       "capital-gain      float64\n",
       "ethnicity          object\n",
       "capital-loss        int64\n",
       "hours-per-week      int64\n",
       "sex                object\n",
       "classification     object\n",
       "dtype: object"
      ]
     },
     "execution_count": 97,
     "metadata": {},
     "output_type": "execute_result"
    }
   ],
   "source": [
    "census['capital-gain'] = pd.to_numeric(census['capital-gain'], errors='coerce')\n",
    "print(census)\n",
    "census.dtypes"
=======
   "execution_count": null,
   "metadata": {
    "collapsed": true
   },
   "outputs": [],
   "source": [
    "# .. your code here .."
>>>>>>> 8c2c0c86a9bd077266629cbbd8ee7446289d47fe
   ]
  },
  {
   "cell_type": "markdown",
   "metadata": {},
   "source": [
    "Try use `your_data_frame['your_column'].unique()` or equally, `your_data_frame.your_column.unique()` to see the unique values of each column and identify the rogue values.\n",
    "\n",
    "If you find any value that should be properly encoded to NaNs, you can convert them either using the `na_values` parameter when loading the dataframe. Or alternatively, use one of the other methods discussed in the reading."
   ]
  },
  {
   "cell_type": "code",
<<<<<<< HEAD
   "execution_count": 98,
   "metadata": {},
   "outputs": [
    {
     "data": {
      "text/plain": [
       "array(['Bachelors', 'HS-grad', '11th', 'Masters', '9th', 'Some-college',\n",
       "       '7th-8th', 'Doctorate', '5th-6th', '10th', '1st-4th', 'Preschool',\n",
       "       '12th'], dtype=object)"
      ]
     },
     "execution_count": 98,
     "metadata": {},
     "output_type": "execute_result"
    }
   ],
   "source": [
    "#census['degree'].unique()\n",
    "#census['age'].unique()\n",
    "#census['capital-gain'].unique()\n",
    "#census['ethnicity'].unique()\n",
    "#census['capital-loss'].unique()\n",
    "#census['hours-per-week'].unique()\n",
    "#census['sex'].unique()\n",
    "#census['classification'].unique()"
=======
   "execution_count": null,
   "metadata": {
    "collapsed": true
   },
   "outputs": [],
   "source": [
    "# .. your code here .."
>>>>>>> 8c2c0c86a9bd077266629cbbd8ee7446289d47fe
   ]
  },
  {
   "cell_type": "markdown",
   "metadata": {},
   "source": [
    "Look through your data and identify any potential categorical features. Ensure you properly encode any ordinal and nominal types using the methods discussed in the chapter.\n",
    "\n",
    "Be careful! Some features can be represented as either categorical or continuous (numerical). If you ever get confused, think to yourself what makes more sense generally---to represent such features with a continuous numeric type... or a series of categories?"
   ]
  },
  {
   "cell_type": "code",
<<<<<<< HEAD
   "execution_count": 99,
=======
   "execution_count": null,
>>>>>>> 8c2c0c86a9bd077266629cbbd8ee7446289d47fe
   "metadata": {
    "collapsed": true
   },
   "outputs": [],
   "source": [
<<<<<<< HEAD
    "#nominal: race, sex\n",
    "census = pd.get_dummies(census,columns=['sex', 'ethnicity'])\n",
    "#ordinal: education, classification\n",
    "ordered_education = ['Preschool','1st-4th','5th-6th','7th-8th','9th','10th','11th','12th','HS-grad','Some-college','Bachelors','Masters','Doctorate']\n",
    "census.degree = census.degree.astype(\"category\", categories=ordered_education, ordered=True).cat.codes\n",
    "ordered_classification = ['<=50K','>50K']\n",
    "census.classification = census.classification.astype(\"category\", categories=ordered_classification, ordered=True).cat.codes\n",
    "#continous: age, capital-gain, capital-loss, hours-per-week\n"
=======
    "# .. your code here .."
>>>>>>> 8c2c0c86a9bd077266629cbbd8ee7446289d47fe
   ]
  },
  {
   "cell_type": "markdown",
   "metadata": {},
   "source": [
    "Lastly, print out your dataframe!"
   ]
  },
  {
   "cell_type": "code",
<<<<<<< HEAD
   "execution_count": 100,
   "metadata": {},
   "outputs": [
    {
     "name": "stdout",
     "output_type": "stream",
     "text": [
      "       degree  age  capital-gain  capital-loss  hours-per-week  \\\n",
      "0          10   39        2174.0             0              40   \n",
      "1          10   50           NaN             0              13   \n",
      "2           8   38           NaN             0              40   \n",
      "3           6   53           NaN             0              40   \n",
      "4          10   28           0.0             0              40   \n",
      "5          11   37           0.0             0              40   \n",
      "6           4   49           0.0             0              16   \n",
      "7           8   52           0.0             0              45   \n",
      "8          11   31       14084.0             0              50   \n",
      "9          10   42        5178.0             0              40   \n",
      "10          9   37           0.0             0              80   \n",
      "11         10   30           0.0             0              40   \n",
      "12         10   23           0.0             0              30   \n",
      "13          3   34           0.0             0              45   \n",
      "14          8   25           0.0             0              35   \n",
      "15          8   32           0.0             0              40   \n",
      "16          6   38           0.0             0              50   \n",
      "17         11   43           0.0             0              45   \n",
      "18         12   40           0.0             0              60   \n",
      "19          8   54           0.0             0              20   \n",
      "20          4   35           0.0             0              40   \n",
      "21          6   43           0.0          2042              40   \n",
      "22          8   59           0.0             0              40   \n",
      "23         10   56           0.0             0              40   \n",
      "24          8   19           0.0             0              40   \n",
      "25          9   54           0.0             0              60   \n",
      "26          8   39           0.0             0              80   \n",
      "27          8   49           0.0             0              40   \n",
      "28          9   20           0.0             0              44   \n",
      "29         10   45           0.0          1408              40   \n",
      "...       ...  ...           ...           ...             ...   \n",
      "29506       8   30           0.0             0              55   \n",
      "29507       5   32           0.0             0              40   \n",
      "29508       9   22           0.0             0              40   \n",
      "29509       8   31           0.0             0              40   \n",
      "29510       8   29           0.0             0              35   \n",
      "29511      10   35           0.0             0              55   \n",
      "29512      10   30           0.0             0              99   \n",
      "29513      12   34           0.0             0              60   \n",
      "29514      10   54           0.0             0              50   \n",
      "29515       9   37           0.0             0              39   \n",
      "29516       7   22           0.0             0              35   \n",
      "29517      10   34           0.0             0              55   \n",
      "29518       8   30           0.0             0              46   \n",
      "29519      10   38       15020.0             0              45   \n",
      "29520      12   71           0.0             0              10   \n",
      "29521       8   45           0.0             0              40   \n",
      "29522       8   41           0.0             0              32   \n",
      "29523       8   72           0.0             0              25   \n",
      "29524      11   31           0.0             0              30   \n",
      "29525       8   43           0.0             0              40   \n",
      "29526       9   43           0.0             0              40   \n",
      "29527       9   43           0.0             0              50   \n",
      "29528       5   32           0.0             0              40   \n",
      "29529      11   32           0.0             0              11   \n",
      "29530      11   53           0.0             0              40   \n",
      "29531       9   22           0.0             0              40   \n",
      "29532       8   40           0.0             0              40   \n",
      "29533       8   58           0.0             0              40   \n",
      "29534       8   22           0.0             0              20   \n",
      "29535       8   52       15024.0             0              40   \n",
      "\n",
      "       classification  sex_Female  sex_Male  ethnicity_Amer-Indian-Eskimo  \\\n",
      "0                   0           0         1                             0   \n",
      "1                   0           0         1                             0   \n",
      "2                   0           0         1                             0   \n",
      "3                   0           0         1                             0   \n",
      "4                   0           1         0                             0   \n",
      "5                   0           1         0                             0   \n",
      "6                   0           1         0                             0   \n",
      "7                   1           0         1                             0   \n",
      "8                   1           1         0                             0   \n",
      "9                   1           0         1                             0   \n",
      "10                  1           0         1                             0   \n",
      "11                  1           0         1                             0   \n",
      "12                  0           1         0                             0   \n",
      "13                  0           0         1                             1   \n",
      "14                  0           0         1                             0   \n",
      "15                  0           0         1                             0   \n",
      "16                  0           0         1                             0   \n",
      "17                  1           1         0                             0   \n",
      "18                  1           0         1                             0   \n",
      "19                  0           1         0                             0   \n",
      "20                  0           0         1                             0   \n",
      "21                  0           0         1                             0   \n",
      "22                  0           1         0                             0   \n",
      "23                  1           0         1                             0   \n",
      "24                  0           0         1                             0   \n",
      "25                  1           0         1                             0   \n",
      "26                  0           0         1                             0   \n",
      "27                  0           0         1                             0   \n",
      "28                  0           0         1                             0   \n",
      "29                  0           0         1                             0   \n",
      "...               ...         ...       ...                           ...   \n",
      "29506               0           0         1                             0   \n",
      "29507               0           0         1                             0   \n",
      "29508               0           0         1                             0   \n",
      "29509               0           1         0                             0   \n",
      "29510               0           1         0                             0   \n",
      "29511               1           1         0                             0   \n",
      "29512               0           1         0                             0   \n",
      "29513               1           0         1                             0   \n",
      "29514               1           0         1                             0   \n",
      "29515               0           1         0                             0   \n",
      "29516               0           0         1                             0   \n",
      "29517               1           1         0                             0   \n",
      "29518               0           0         1                             0   \n",
      "29519               1           1         0                             0   \n",
      "29520               1           0         1                             0   \n",
      "29521               0           1         0                             0   \n",
      "29522               0           1         0                             0   \n",
      "29523               0           0         1                             0   \n",
      "29524               0           1         0                             0   \n",
      "29525               0           0         1                             0   \n",
      "29526               0           1         0                             0   \n",
      "29527               0           0         1                             0   \n",
      "29528               0           0         1                             1   \n",
      "29529               0           0         1                             0   \n",
      "29530               1           0         1                             0   \n",
      "29531               0           0         1                             0   \n",
      "29532               1           0         1                             0   \n",
      "29533               0           1         0                             0   \n",
      "29534               0           0         1                             0   \n",
      "29535               1           1         0                             0   \n",
      "\n",
      "       ethnicity_Asian-Pac-Islander  ethnicity_Black  ethnicity_Other  \\\n",
      "0                                 0                0                0   \n",
      "1                                 0                0                0   \n",
      "2                                 0                0                0   \n",
      "3                                 0                1                0   \n",
      "4                                 0                1                0   \n",
      "5                                 0                0                0   \n",
      "6                                 0                1                0   \n",
      "7                                 0                0                0   \n",
      "8                                 0                0                0   \n",
      "9                                 0                0                0   \n",
      "10                                0                1                0   \n",
      "11                                1                0                0   \n",
      "12                                0                0                0   \n",
      "13                                0                0                0   \n",
      "14                                0                0                0   \n",
      "15                                0                0                0   \n",
      "16                                0                0                0   \n",
      "17                                0                0                0   \n",
      "18                                0                0                0   \n",
      "19                                0                1                0   \n",
      "20                                0                1                0   \n",
      "21                                0                0                0   \n",
      "22                                0                0                0   \n",
      "23                                0                0                0   \n",
      "24                                0                0                0   \n",
      "25                                1                0                0   \n",
      "26                                0                0                0   \n",
      "27                                0                0                0   \n",
      "28                                0                1                0   \n",
      "29                                0                0                0   \n",
      "...                             ...              ...              ...   \n",
      "29506                             0                0                0   \n",
      "29507                             0                0                0   \n",
      "29508                             0                0                0   \n",
      "29509                             0                0                0   \n",
      "29510                             0                0                0   \n",
      "29511                             0                0                0   \n",
      "29512                             1                0                0   \n",
      "29513                             0                0                0   \n",
      "29514                             1                0                0   \n",
      "29515                             0                0                0   \n",
      "29516                             0                1                0   \n",
      "29517                             0                0                0   \n",
      "29518                             0                1                0   \n",
      "29519                             0                1                0   \n",
      "29520                             0                0                0   \n",
      "29521                             0                0                0   \n",
      "29522                             0                1                0   \n",
      "29523                             0                0                0   \n",
      "29524                             0                0                1   \n",
      "29525                             0                0                0   \n",
      "29526                             0                0                0   \n",
      "29527                             0                0                0   \n",
      "29528                             0                0                0   \n",
      "29529                             1                0                0   \n",
      "29530                             0                0                0   \n",
      "29531                             0                0                0   \n",
      "29532                             0                0                0   \n",
      "29533                             0                0                0   \n",
      "29534                             0                0                0   \n",
      "29535                             0                0                0   \n",
      "\n",
      "       ethnicity_White  \n",
      "0                    1  \n",
      "1                    1  \n",
      "2                    1  \n",
      "3                    0  \n",
      "4                    0  \n",
      "5                    1  \n",
      "6                    0  \n",
      "7                    1  \n",
      "8                    1  \n",
      "9                    1  \n",
      "10                   0  \n",
      "11                   0  \n",
      "12                   1  \n",
      "13                   0  \n",
      "14                   1  \n",
      "15                   1  \n",
      "16                   1  \n",
      "17                   1  \n",
      "18                   1  \n",
      "19                   0  \n",
      "20                   0  \n",
      "21                   1  \n",
      "22                   1  \n",
      "23                   1  \n",
      "24                   1  \n",
      "25                   0  \n",
      "26                   1  \n",
      "27                   1  \n",
      "28                   0  \n",
      "29                   1  \n",
      "...                ...  \n",
      "29506                1  \n",
      "29507                1  \n",
      "29508                1  \n",
      "29509                1  \n",
      "29510                1  \n",
      "29511                1  \n",
      "29512                0  \n",
      "29513                1  \n",
      "29514                0  \n",
      "29515                1  \n",
      "29516                0  \n",
      "29517                1  \n",
      "29518                0  \n",
      "29519                0  \n",
      "29520                1  \n",
      "29521                1  \n",
      "29522                0  \n",
      "29523                1  \n",
      "29524                0  \n",
      "29525                1  \n",
      "29526                1  \n",
      "29527                1  \n",
      "29528                0  \n",
      "29529                0  \n",
      "29530                1  \n",
      "29531                1  \n",
      "29532                1  \n",
      "29533                1  \n",
      "29534                1  \n",
      "29535                1  \n",
      "\n",
      "[29536 rows x 13 columns]\n"
     ]
    }
   ],
   "source": [
    "print(census)"
   ]
  },
  {
   "cell_type": "code",
=======
>>>>>>> 8c2c0c86a9bd077266629cbbd8ee7446289d47fe
   "execution_count": null,
   "metadata": {
    "collapsed": true
   },
   "outputs": [],
<<<<<<< HEAD
   "source": []
=======
   "source": [
    "# .. your code here .."
   ]
>>>>>>> 8c2c0c86a9bd077266629cbbd8ee7446289d47fe
  }
 ],
 "metadata": {
  "anaconda-cloud": {},
  "kernelspec": {
<<<<<<< HEAD
   "display_name": "Python 3",
=======
   "display_name": "Python [default]",
>>>>>>> 8c2c0c86a9bd077266629cbbd8ee7446289d47fe
   "language": "python",
   "name": "python3"
  },
  "language_info": {
   "codemirror_mode": {
    "name": "ipython",
    "version": 3
   },
   "file_extension": ".py",
   "mimetype": "text/x-python",
   "name": "python",
   "nbconvert_exporter": "python",
   "pygments_lexer": "ipython3",
<<<<<<< HEAD
   "version": "3.6.1"
=======
   "version": "3.5.2"
>>>>>>> 8c2c0c86a9bd077266629cbbd8ee7446289d47fe
  },
  "toc": {
   "colors": {
    "hover_highlight": "#DAA520",
    "running_highlight": "#FF0000",
    "selected_highlight": "#FFD700"
   },
   "moveMenuLeft": true,
   "nav_menu": {
    "height": "58px",
    "width": "251px"
   },
   "navigate_menu": true,
   "number_sections": true,
   "sideBar": true,
   "threshold": 4,
   "toc_cell": false,
   "toc_section_display": "block",
   "toc_window_display": false,
   "widenNotebook": false
  }
 },
 "nbformat": 4,
 "nbformat_minor": 2
}
