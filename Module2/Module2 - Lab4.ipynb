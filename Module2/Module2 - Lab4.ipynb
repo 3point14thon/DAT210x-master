{
 "cells": [
  {
   "cell_type": "markdown",
   "metadata": {},
   "source": [
    "# DAT210x - Programming with Python for DS"
   ]
  },
  {
   "cell_type": "markdown",
   "metadata": {},
   "source": [
    "## Module2 - Lab4"
   ]
  },
  {
   "cell_type": "markdown",
   "metadata": {
    "collapsed": true
   },
   "source": [
    "Import and alias Pandas:"
   ]
  },
  {
   "cell_type": "code",
<<<<<<< HEAD
   "execution_count": 13,
=======
   "execution_count": null,
>>>>>>> 8c2c0c86a9bd077266629cbbd8ee7446289d47fe
   "metadata": {
    "collapsed": true
   },
   "outputs": [],
   "source": [
<<<<<<< HEAD
    "import pandas as pd"
=======
    "# .. your code here .."
>>>>>>> 8c2c0c86a9bd077266629cbbd8ee7446289d47fe
   ]
  },
  {
   "cell_type": "markdown",
   "metadata": {},
   "source": [
    "Load up the table from the link, and extract the dataset out of it. If you're having issues with this, look carefully at the sample code provided in the reading:"
   ]
  },
  {
   "cell_type": "code",
<<<<<<< HEAD
   "execution_count": 58,
   "metadata": {},
   "outputs": [],
   "source": [
    "NHL_stats = pd.read_html('http://www.espn.com/nhl/statistics/player/_/stat/points/sort/points/year/2015/seasontype/2', header = 1)\n",
    "NHL_stats = NHL_stats[0]"
=======
   "execution_count": 1,
   "metadata": {
    "collapsed": true
   },
   "outputs": [],
   "source": [
    "# .. your code here .."
>>>>>>> 8c2c0c86a9bd077266629cbbd8ee7446289d47fe
   ]
  },
  {
   "cell_type": "markdown",
   "metadata": {},
   "source": [
    "Next up, rename the columns so that they are _similar_ to the column definitions provided to you on the website. Be careful and don't accidentally use any column names twice. If a column uses special characters, you can replace them with regular characters to make it easier to work with:"
   ]
  },
  {
   "cell_type": "code",
<<<<<<< HEAD
   "execution_count": 59,
   "metadata": {},
   "outputs": [],
   "source": [
    "NHL_stats.columns = ['Rank', 'Player', 'Team', 'Games Played', 'Goals', 'Assists', 'Points', '+/- Rating', 'Penalty Minutes',\n",
    "                     'Points Per Game', 'Shots on Goal', 'Shooting Percentage', 'Game-Winning Goals', 'Power-Play Goals',\n",
    "                     'Power-Play Assists', 'Short Handed Goals', 'Short Handed Assists']"
=======
   "execution_count": 2,
   "metadata": {
    "collapsed": true
   },
   "outputs": [],
   "source": [
    "# .. your code here .."
>>>>>>> 8c2c0c86a9bd077266629cbbd8ee7446289d47fe
   ]
  },
  {
   "cell_type": "markdown",
   "metadata": {},
   "source": [
    "Get rid of any row that has at least 4 NANs in it. That is, any rows that do not contain player points statistics:"
   ]
  },
  {
   "cell_type": "code",
<<<<<<< HEAD
   "execution_count": 60,
=======
   "execution_count": 4,
>>>>>>> 8c2c0c86a9bd077266629cbbd8ee7446289d47fe
   "metadata": {
    "collapsed": true
   },
   "outputs": [],
   "source": [
<<<<<<< HEAD
    "NHL_stats = NHL_stats.dropna(axis = 0, thresh = 4)"
=======
    "# .. your code here .."
>>>>>>> 8c2c0c86a9bd077266629cbbd8ee7446289d47fe
   ]
  },
  {
   "cell_type": "markdown",
   "metadata": {},
   "source": [
    "At this point, look through your dataset by printing it. There probably still are some erroneous rows in there. What indexing command(s) will you use to select all rows EXCEPT those rows?"
   ]
  },
  {
   "cell_type": "code",
<<<<<<< HEAD
   "execution_count": 61,
   "metadata": {},
   "outputs": [],
   "source": [
    "NHL_stats = NHL_stats[NHL_stats.Player != 'PLAYER']\n"
=======
   "execution_count": 6,
   "metadata": {
    "collapsed": true
   },
   "outputs": [],
   "source": [
    "# .. your code here .."
>>>>>>> 8c2c0c86a9bd077266629cbbd8ee7446289d47fe
   ]
  },
  {
   "cell_type": "markdown",
   "metadata": {},
   "source": [
    "Get rid of the 'RK' column:"
   ]
  },
  {
   "cell_type": "code",
<<<<<<< HEAD
   "execution_count": 62,
   "metadata": {},
   "outputs": [],
   "source": [
    "NHL_stats = NHL_stats.drop('Rank', axis = 1)"
=======
   "execution_count": 7,
   "metadata": {
    "collapsed": true
   },
   "outputs": [],
   "source": [
    "# .. your code here .."
>>>>>>> 8c2c0c86a9bd077266629cbbd8ee7446289d47fe
   ]
  },
  {
   "cell_type": "markdown",
   "metadata": {},
   "source": [
    "Make sure there are no holes in your index by resetting it. There is an example of this in the reading material. By the way, drop the original index."
   ]
  },
  {
   "cell_type": "code",
<<<<<<< HEAD
   "execution_count": 63,
=======
   "execution_count": 9,
>>>>>>> 8c2c0c86a9bd077266629cbbd8ee7446289d47fe
   "metadata": {
    "collapsed": true
   },
   "outputs": [],
   "source": [
<<<<<<< HEAD
    "NHL_stats = NHL_stats.reset_index(drop = True)"
=======
    "# .. your code here .."
>>>>>>> 8c2c0c86a9bd077266629cbbd8ee7446289d47fe
   ]
  },
  {
   "cell_type": "markdown",
   "metadata": {},
   "source": [
    "Check the data type of all columns, and ensure those that should be numeric are numeric."
   ]
  },
  {
   "cell_type": "code",
<<<<<<< HEAD
   "execution_count": 74,
   "metadata": {},
   "outputs": [
    {
     "data": {
      "text/plain": [
       "Player                   object\n",
       "Team                     object\n",
       "Games Played            float64\n",
       "Goals                   float64\n",
       "Assists                 float64\n",
       "Points                  float64\n",
       "+/- Rating              float64\n",
       "Penalty Minutes         float64\n",
       "Points Per Game         float64\n",
       "Shots on Goal           float64\n",
       "Shooting Percentage     float64\n",
       "Game-Winning Goals      float64\n",
       "Power-Play Goals        float64\n",
       "Power-Play Assists      float64\n",
       "Short Handed Goals      float64\n",
       "Short Handed Assists    float64\n",
       "dtype: object"
      ]
     },
     "execution_count": 74,
     "metadata": {},
     "output_type": "execute_result"
    }
   ],
   "source": [
    "\n",
    "NHL_stats = pd.concat([NHL_stats.loc[:,'Player' : 'Team'],NHL_stats.loc[:,'Games Played' : : ].apply(pd.to_numeric)], axis = 1)\n",
    "NHL_stats.dtypes"
=======
   "execution_count": 10,
   "metadata": {
    "collapsed": true
   },
   "outputs": [],
   "source": [
    "# .. your code here .."
>>>>>>> 8c2c0c86a9bd077266629cbbd8ee7446289d47fe
   ]
  },
  {
   "cell_type": "markdown",
   "metadata": {},
   "source": [
    "Your dataframe is now ready! Use the appropriate commands to answer the questions on the course lab page."
   ]
  },
  {
   "cell_type": "code",
<<<<<<< HEAD
   "execution_count": 84,
   "metadata": {},
   "outputs": [
    {
     "name": "stdout",
     "output_type": "stream",
     "text": [
      "164.0\n"
     ]
    }
   ],
   "source": [
    "print(len(NHL_stats.index))\n",
    "print(len(NHL_stats['Shooting Percentage'].unique()))\n",
    "print(NHL_stats.loc[15 : 16, 'Games Played'].sum())"
   ]
  },
  {
   "cell_type": "code",
=======
>>>>>>> 8c2c0c86a9bd077266629cbbd8ee7446289d47fe
   "execution_count": null,
   "metadata": {
    "collapsed": true
   },
   "outputs": [],
<<<<<<< HEAD
   "source": []
=======
   "source": [
    "# .. your code here .."
   ]
>>>>>>> 8c2c0c86a9bd077266629cbbd8ee7446289d47fe
  }
 ],
 "metadata": {
  "anaconda-cloud": {},
  "kernelspec": {
<<<<<<< HEAD
   "display_name": "Python 3",
=======
   "display_name": "Python [default]",
>>>>>>> 8c2c0c86a9bd077266629cbbd8ee7446289d47fe
   "language": "python",
   "name": "python3"
  },
  "language_info": {
   "codemirror_mode": {
    "name": "ipython",
    "version": 3
   },
   "file_extension": ".py",
   "mimetype": "text/x-python",
   "name": "python",
   "nbconvert_exporter": "python",
   "pygments_lexer": "ipython3",
<<<<<<< HEAD
   "version": "3.6.1"
=======
   "version": "3.5.2"
>>>>>>> 8c2c0c86a9bd077266629cbbd8ee7446289d47fe
  },
  "toc": {
   "colors": {
    "hover_highlight": "#DAA520",
    "running_highlight": "#FF0000",
    "selected_highlight": "#FFD700"
   },
   "moveMenuLeft": true,
   "nav_menu": {
    "height": "58px",
    "width": "251px"
   },
   "navigate_menu": true,
   "number_sections": true,
   "sideBar": true,
   "threshold": 4,
   "toc_cell": false,
   "toc_section_display": "block",
   "toc_window_display": false,
   "widenNotebook": false
  }
 },
 "nbformat": 4,
 "nbformat_minor": 2
}
