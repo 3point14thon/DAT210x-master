{
 "cells": [
  {
   "cell_type": "markdown",
   "metadata": {},
   "source": [
    "# DAT210x - Programming with Python for DS"
   ]
  },
  {
   "cell_type": "markdown",
   "metadata": {},
   "source": [
    "## Module3 - Lab1"
   ]
  },
  {
   "cell_type": "code",
   "execution_count": 1,
   "metadata": {
    "collapsed": true
   },
   "outputs": [],
   "source": [
    "import pandas as pd\n",
    "import matplotlib.pyplot as plt\n",
    "import matplotlib"
   ]
  },
  {
   "cell_type": "code",
   "execution_count": 2,
   "metadata": {
    "collapsed": true
   },
   "outputs": [],
   "source": [
    "# Look pretty...\n",
    "\n",
    "# matplotlib.style.use('ggplot')\n",
    "plt.style.use('ggplot')"
   ]
  },
  {
   "cell_type": "markdown",
   "metadata": {},
   "source": [
    "Load up the wheat seeds dataset into a dataframe. We've stored a copy in the Datasets directory."
   ]
  },
  {
   "cell_type": "code",
   "execution_count": 5,
   "metadata": {},
   "outputs": [
    {
     "name": "stdout",
     "output_type": "stream",
     "text": [
      "      id   area  perimeter  compactness  length  width  asymmetry  groove  \\\n",
      "0      0  15.26      14.84       0.8710   5.763  3.312     2.2210   5.220   \n",
      "1      1  14.88      14.57       0.8811   5.554  3.333     1.0180   4.956   \n",
      "2      2  14.29      14.09       0.9050   5.291  3.337     2.6990   4.825   \n",
      "3      3  13.84      13.94       0.8955   5.324  3.379     2.2590   4.805   \n",
      "4      4  16.14      14.99       0.9034   5.658  3.562     1.3550   5.175   \n",
      "5      5  14.38      14.21       0.8951   5.386  3.312     2.4620   4.956   \n",
      "6      6  14.69      14.49       0.8799   5.563  3.259     3.5860   5.219   \n",
      "7      7  14.11      14.10       0.8911   5.420  3.302     2.7000     NaN   \n",
      "8      8  16.63      15.46       0.8747   6.053  3.465     2.0400   5.877   \n",
      "9      9  16.44      15.25       0.8880   5.884  3.505     1.9690   5.533   \n",
      "10    10  15.26      14.85       0.8696   5.714  3.242     4.5430   5.314   \n",
      "11    11  14.03      14.16       0.8796   5.438  3.201     1.7170   5.001   \n",
      "12    12  13.89      14.02       0.8880   5.439  3.199     3.9860   4.738   \n",
      "13    13  13.78      14.06       0.8759   5.479  3.156     3.1360   4.872   \n",
      "14    14  13.74      14.05       0.8744   5.482  3.114     2.9320   4.825   \n",
      "15    15  14.59      14.28       0.8993   5.351  3.333     4.1850   4.781   \n",
      "16    16  13.99      13.83       0.9183   5.119  3.383     5.2340   4.781   \n",
      "17    17  15.69      14.75       0.9058   5.527  3.514     1.5990   5.046   \n",
      "18    18  14.70      14.21       0.9153   5.205  3.466     1.7670   4.649   \n",
      "19    19  12.72      13.57       0.8686   5.226  3.049     4.1020   4.914   \n",
      "20    20  14.16      14.40       0.8584   5.658  3.129     3.0720   5.176   \n",
      "21    21  14.11      14.26       0.8722   5.520  3.168     2.6880   5.219   \n",
      "22    22  15.88      14.90       0.8988   5.618  3.507     0.7651   5.091   \n",
      "23    23  12.08      13.23       0.8664   5.099  2.936     1.4150   4.961   \n",
      "24    24  15.01      14.76       0.8657   5.789  3.245     1.7910   5.001   \n",
      "25    25  16.19      15.16       0.8849   5.833  3.421     0.9030   5.307   \n",
      "26    26  13.02      13.76       0.8641   5.395  3.026     3.3730   4.825   \n",
      "27    27  12.74      13.67       0.8564   5.395  2.956     2.5040   4.869   \n",
      "28    28  14.11      14.18       0.8820   5.541  3.221     2.7540   5.038   \n",
      "29    29  13.45      14.02       0.8604   5.516  3.065     3.5310   5.097   \n",
      "..   ...    ...        ...          ...     ...    ...        ...     ...   \n",
      "180  180  11.41      12.95       0.8560   5.090  2.775     4.9570   4.825   \n",
      "181  181  12.46      13.41       0.8706   5.236  3.017     4.9870   5.147   \n",
      "182  182  12.19      13.36       0.8579   5.240  2.909     4.8570   5.158   \n",
      "183  183  11.65      13.07       0.8575   5.108  2.850     5.2090   5.135   \n",
      "184  184  12.89      13.77       0.8541   5.495  3.026     6.1850   5.316   \n",
      "185  185  11.56      13.31       0.8198   5.363  2.683     4.0620   5.182   \n",
      "186  186  11.81      13.45       0.8198   5.413  2.716     4.8980   5.352   \n",
      "187  187  10.91      12.80       0.8372   5.088  2.675     4.1790   4.956   \n",
      "188  188  11.23      12.82       0.8594   5.089  2.821     7.5240   4.957   \n",
      "189  189  10.59      12.41       0.8648   4.899  2.787     4.9750   4.794   \n",
      "190  190  10.93      12.80       0.8390   5.046  2.717     5.3980   5.045   \n",
      "191  191  11.27      12.86       0.8563   5.091  2.804     3.9850   5.001   \n",
      "192  192  11.87      13.02       0.8795   5.132  2.953     3.5970   5.132   \n",
      "193  193  10.82      12.83       0.8256   5.180  2.630     4.8530   5.089   \n",
      "194  194  12.11      13.27       0.8639   5.236  2.975     4.1320   5.012   \n",
      "195  195  12.80      13.47       0.8860   5.160  3.126     4.8730   4.914   \n",
      "196  196  12.79      13.53       0.8786   5.224  3.054     5.4830   4.958   \n",
      "197  197  13.37      13.78       0.8849   5.320  3.128     4.6700   5.091   \n",
      "198  198  12.62      13.67       0.8481   5.410  2.911     3.3060   5.231   \n",
      "199  199  12.76      13.38       0.8964   5.073  3.155     2.8280   4.830   \n",
      "200  200  12.38      13.44       0.8609   5.219  2.989     5.4720   5.045   \n",
      "201  201  12.67      13.32       0.8977   4.984  3.135     2.3000     NaN   \n",
      "202  202  11.18      12.72       0.8680   5.009  2.810     4.0510   4.828   \n",
      "203  203  12.70      13.41       0.8874   5.183  3.091     8.4560   5.000   \n",
      "204  204  12.37      13.47       0.8567   5.204  2.960     3.9190   5.001   \n",
      "205  205  12.19      13.20       0.8783   5.137  2.981     3.6310   4.870   \n",
      "206  206  11.23      12.88       0.8511   5.140  2.795     4.3250   5.003   \n",
      "207  207  13.20      13.66       0.8883   5.236  3.232     8.3150   5.056   \n",
      "208  208  11.84      13.21       0.8521   5.175  2.836     3.5980   5.044   \n",
      "209  209  12.30      13.34       0.8684   5.243  2.974     5.6370   5.063   \n",
      "\n",
      "    wheat_type  \n",
      "0         kama  \n",
      "1         kama  \n",
      "2         kama  \n",
      "3         kama  \n",
      "4         kama  \n",
      "5         kama  \n",
      "6         kama  \n",
      "7     canadian  \n",
      "8         kama  \n",
      "9         kama  \n",
      "10        kama  \n",
      "11        kama  \n",
      "12        kama  \n",
      "13        kama  \n",
      "14        kama  \n",
      "15        kama  \n",
      "16        kama  \n",
      "17        kama  \n",
      "18        kama  \n",
      "19        kama  \n",
      "20        kama  \n",
      "21        kama  \n",
      "22        kama  \n",
      "23        kama  \n",
      "24        kama  \n",
      "25        kama  \n",
      "26        kama  \n",
      "27        kama  \n",
      "28        kama  \n",
      "29        kama  \n",
      "..         ...  \n",
      "180   canadian  \n",
      "181   canadian  \n",
      "182   canadian  \n",
      "183   canadian  \n",
      "184   canadian  \n",
      "185   canadian  \n",
      "186   canadian  \n",
      "187   canadian  \n",
      "188   canadian  \n",
      "189   canadian  \n",
      "190   canadian  \n",
      "191   canadian  \n",
      "192   canadian  \n",
      "193   canadian  \n",
      "194   canadian  \n",
      "195   canadian  \n",
      "196   canadian  \n",
      "197   canadian  \n",
      "198   canadian  \n",
      "199   canadian  \n",
      "200   canadian  \n",
      "201   canadian  \n",
      "202   canadian  \n",
      "203   canadian  \n",
      "204   canadian  \n",
      "205   canadian  \n",
      "206   canadian  \n",
      "207   canadian  \n",
      "208   canadian  \n",
      "209   canadian  \n",
      "\n",
      "[210 rows x 9 columns]\n"
     ]
    }
   ],
   "source": [
    "Wheatdf = pd.read_csv('Datasets\\wheat.data')"
   ]
  },
  {
   "cell_type": "markdown",
   "metadata": {},
   "source": [
    "Create a slice from your dataframe and name the variable `s1`. It should only include the `area` and `perimeter` features."
   ]
  },
  {
   "cell_type": "code",
   "execution_count": 8,
   "metadata": {},
   "outputs": [
    {
     "name": "stdout",
     "output_type": "stream",
     "text": [
      "      area  perimeter\n",
      "0    15.26      14.84\n",
      "1    14.88      14.57\n",
      "2    14.29      14.09\n",
      "3    13.84      13.94\n",
      "4    16.14      14.99\n",
      "5    14.38      14.21\n",
      "6    14.69      14.49\n",
      "7    14.11      14.10\n",
      "8    16.63      15.46\n",
      "9    16.44      15.25\n",
      "10   15.26      14.85\n",
      "11   14.03      14.16\n",
      "12   13.89      14.02\n",
      "13   13.78      14.06\n",
      "14   13.74      14.05\n",
      "15   14.59      14.28\n",
      "16   13.99      13.83\n",
      "17   15.69      14.75\n",
      "18   14.70      14.21\n",
      "19   12.72      13.57\n",
      "20   14.16      14.40\n",
      "21   14.11      14.26\n",
      "22   15.88      14.90\n",
      "23   12.08      13.23\n",
      "24   15.01      14.76\n",
      "25   16.19      15.16\n",
      "26   13.02      13.76\n",
      "27   12.74      13.67\n",
      "28   14.11      14.18\n",
      "29   13.45      14.02\n",
      "..     ...        ...\n",
      "180  11.41      12.95\n",
      "181  12.46      13.41\n",
      "182  12.19      13.36\n",
      "183  11.65      13.07\n",
      "184  12.89      13.77\n",
      "185  11.56      13.31\n",
      "186  11.81      13.45\n",
      "187  10.91      12.80\n",
      "188  11.23      12.82\n",
      "189  10.59      12.41\n",
      "190  10.93      12.80\n",
      "191  11.27      12.86\n",
      "192  11.87      13.02\n",
      "193  10.82      12.83\n",
      "194  12.11      13.27\n",
      "195  12.80      13.47\n",
      "196  12.79      13.53\n",
      "197  13.37      13.78\n",
      "198  12.62      13.67\n",
      "199  12.76      13.38\n",
      "200  12.38      13.44\n",
      "201  12.67      13.32\n",
      "202  11.18      12.72\n",
      "203  12.70      13.41\n",
      "204  12.37      13.47\n",
      "205  12.19      13.20\n",
      "206  11.23      12.88\n",
      "207  13.20      13.66\n",
      "208  11.84      13.21\n",
      "209  12.30      13.34\n",
      "\n",
      "[210 rows x 2 columns]\n"
     ]
    }
   ],
   "source": [
    "s1 = Wheatdf.iloc[:,1:3]"
   ]
  },
  {
   "cell_type": "markdown",
   "metadata": {},
   "source": [
    "Create another slice of from dataframe called it `s2` this time. Slice out only the `groove` and `asymmetry` features:"
   ]
  },
  {
   "cell_type": "code",
   "execution_count": 10,
   "metadata": {},
   "outputs": [
    {
     "name": "stdout",
     "output_type": "stream",
     "text": [
      "     asymmetry  groove\n",
      "0       2.2210   5.220\n",
      "1       1.0180   4.956\n",
      "2       2.6990   4.825\n",
      "3       2.2590   4.805\n",
      "4       1.3550   5.175\n",
      "5       2.4620   4.956\n",
      "6       3.5860   5.219\n",
      "7       2.7000     NaN\n",
      "8       2.0400   5.877\n",
      "9       1.9690   5.533\n",
      "10      4.5430   5.314\n",
      "11      1.7170   5.001\n",
      "12      3.9860   4.738\n",
      "13      3.1360   4.872\n",
      "14      2.9320   4.825\n",
      "15      4.1850   4.781\n",
      "16      5.2340   4.781\n",
      "17      1.5990   5.046\n",
      "18      1.7670   4.649\n",
      "19      4.1020   4.914\n",
      "20      3.0720   5.176\n",
      "21      2.6880   5.219\n",
      "22      0.7651   5.091\n",
      "23      1.4150   4.961\n",
      "24      1.7910   5.001\n",
      "25      0.9030   5.307\n",
      "26      3.3730   4.825\n",
      "27      2.5040   4.869\n",
      "28      2.7540   5.038\n",
      "29      3.5310   5.097\n",
      "..         ...     ...\n",
      "180     4.9570   4.825\n",
      "181     4.9870   5.147\n",
      "182     4.8570   5.158\n",
      "183     5.2090   5.135\n",
      "184     6.1850   5.316\n",
      "185     4.0620   5.182\n",
      "186     4.8980   5.352\n",
      "187     4.1790   4.956\n",
      "188     7.5240   4.957\n",
      "189     4.9750   4.794\n",
      "190     5.3980   5.045\n",
      "191     3.9850   5.001\n",
      "192     3.5970   5.132\n",
      "193     4.8530   5.089\n",
      "194     4.1320   5.012\n",
      "195     4.8730   4.914\n",
      "196     5.4830   4.958\n",
      "197     4.6700   5.091\n",
      "198     3.3060   5.231\n",
      "199     2.8280   4.830\n",
      "200     5.4720   5.045\n",
      "201     2.3000     NaN\n",
      "202     4.0510   4.828\n",
      "203     8.4560   5.000\n",
      "204     3.9190   5.001\n",
      "205     3.6310   4.870\n",
      "206     4.3250   5.003\n",
      "207     8.3150   5.056\n",
      "208     3.5980   5.044\n",
      "209     5.6370   5.063\n",
      "\n",
      "[210 rows x 2 columns]\n"
     ]
    }
   ],
   "source": [
    "s2 = Wheatdf.iloc[:,-3:-1]"
   ]
  },
  {
   "cell_type": "markdown",
   "metadata": {},
   "source": [
    "Create a histogram plot using the first slice, and another histogram plot using the second slice. Be sure to set `alpha=0.75`."
   ]
  },
  {
   "cell_type": "code",
   "execution_count": 11,
   "metadata": {},
   "outputs": [
    {
     "data": {
      "text/plain": [
       "<matplotlib.axes._subplots.AxesSubplot at 0x288ef850a58>"
      ]
     },
     "execution_count": 11,
     "metadata": {},
     "output_type": "execute_result"
    }
   ],
   "source": [
    "s1.plot.hist(alpha=0.75)\n",
    "s2.plot.hist(alpha=0.75)"
   ]
  },
  {
   "cell_type": "code",
   "execution_count": 12,
   "metadata": {},
   "outputs": [
    {
     "data": {
      "image/png": "[encoded data removed]",
      "text/plain": [
       "<matplotlib.figure.Figure at 0x288ef6a6898>"
      ]
     },
     "metadata": {},
     "output_type": "display_data"
    },
    {
     "data": {
      "image/png": "[encoded data removed]",
      "text/plain": [
       "<matplotlib.figure.Figure at 0x288ef7d0ba8>"
      ]
     },
     "metadata": {},
     "output_type": "display_data"
    }
   ],
   "source": [
    "# Display the graphs:\n",
    "plt.show()"
   ]
  },
  {
   "cell_type": "code",
   "execution_count": null,
   "metadata": {
    "collapsed": true
   },
   "outputs": [],
   "source": []
  }
 ],
 "metadata": {
  "anaconda-cloud": {},
  "kernelspec": {
   "display_name": "Python 3",
   "language": "python",
   "name": "python3"
  },
  "language_info": {
   "codemirror_mode": {
    "name": "ipython",
    "version": 3
   },
   "file_extension": ".py",
   "mimetype": "text/x-python",
   "name": "python",
   "nbconvert_exporter": "python",
   "pygments_lexer": "ipython3",
   "version": "3.6.1"
  },
  "toc": {
   "colors": {
    "hover_highlight": "#DAA520",
    "running_highlight": "#FF0000",
    "selected_highlight": "#FFD700"
   },
   "moveMenuLeft": true,
   "nav_menu": {
    "height": "58px",
    "width": "252px"
   },
   "navigate_menu": true,
   "number_sections": true,
   "sideBar": true,
   "threshold": 4,
   "toc_cell": false,
   "toc_section_display": "block",
   "toc_window_display": false,
   "widenNotebook": false
  }
 },
 "nbformat": 4,
 "nbformat_minor": 2
}
